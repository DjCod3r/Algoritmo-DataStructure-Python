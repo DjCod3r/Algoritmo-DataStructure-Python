{
  "cells": [
    {
      "cell_type": "markdown",
      "metadata": {
        "id": "view-in-github",
        "colab_type": "text"
      },
      "source": [
        "<a href=\"https://colab.research.google.com/github/DjonatanS/Algoritmo-DataStructure-Python/blob/main/Postgres_BITRIXapi.ipynb\" target=\"_parent\"><img src=\"https://colab.research.google.com/assets/colab-badge.svg\" alt=\"Open In Colab\"/></a>"
      ]
    },
    {
      "cell_type": "code",
      "execution_count": 1,
      "metadata": {
        "colab": {
          "base_uri": "https://localhost:8080/"
        },
        "id": "5CgE6uor79-3",
        "outputId": "e839242e-42b6-4044-98b9-8b6fa713a87d"
      },
      "outputs": [
        {
          "output_type": "stream",
          "name": "stderr",
          "text": [
            "/usr/local/lib/python3.7/dist-packages/psycopg2/__init__.py:144: UserWarning: The psycopg2 wheel package will be renamed from release 2.8; in order to keep installing from binary please use \"pip install psycopg2-binary\" instead. For details see: <http://initd.org/psycopg/docs/install.html#binary-install-from-pypi>.\n",
            "  \"\"\")\n"
          ]
        }
      ],
      "source": [
        "import requests\n",
        "from time import sleep\n",
        "from urllib.parse import urlparse\n",
        "import pandas as pd\n",
        "import psycopg2\n",
        "import numpy as np\n",
        "import xlrd\n",
        "import time\n",
        "import datetime\n",
        "from sqlalchemy import create_engine\n",
        "import urllib.parse\n",
        "import datetime\n"
      ]
    },
    {
      "cell_type": "code",
      "execution_count": 2,
      "metadata": {
        "id": "qdIWxmeT79-6"
      },
      "outputs": [],
      "source": [
        "#variables\n",
        "minutos = 60\n",
        "hora = minutos * 60\n",
        "horario = datetime.datetime.now().strftime(\"%H:%M:%S\")\n",
        "horaInt = int(horario.split(\":\")[0])"
      ]
    },
    {
      "cell_type": "markdown",
      "metadata": {
        "id": "xYa2gTJB79-6"
      },
      "source": [
        "API BITRIX"
      ]
    },
    {
      "cell_type": "code",
      "execution_count": 3,
      "metadata": {
        "id": "nItAPdUP79-8"
      },
      "outputs": [],
      "source": [
        "class Bitrix24(object):\n",
        "    \"\"\"A user-created :class:`Bitrix24 <Bitrix24>` object.\n",
        "    Used to sent to the server.\n",
        "\n",
        "    :param domain: REST call domain, including account name, user ID and secret code.\n",
        "    :param timeout: (Optional) waiting for a response after a given number of seconds.\n",
        "    Usage::\n",
        "      >>> from bitrix24 import Bitrix24\n",
        "      >>> bx24 = Bitrix24('https://example.bitrix24.com/rest/1/33olqeits4avuyqu')\n",
        "      >>> bx24.callMethod('crm.product.list')\n",
        "    \"\"\"\n",
        "\n",
        "    def __init__(self, domain, timeout=60):\n",
        "        \"\"\"Create Bitrix24 API object\n",
        "        :param domain: str Bitrix24 webhook domain\n",
        "        :param timeout: int Timeout for API request in seconds\n",
        "        \"\"\"\n",
        "        self.domain = self._prepare_domain(domain)\n",
        "        self.timeout = timeout\n",
        "\n",
        "    def _prepare_domain(self, domain):\n",
        "        \"\"\"Normalize user passed domain to a valid one.\"\"\"\n",
        "        if domain == '' or not isinstance(domain, str):\n",
        "            raise Exception('Empty domain')\n",
        "\n",
        "        o = urlparse(domain)\n",
        "        user_id, code = o.path.split('/')[2:4]\n",
        "        return \"{0}://{1}/rest/{2}/{3}\".format(o.scheme, o.netloc, user_id, code)\n",
        "\n",
        "    def _prepare_params(self, params, prev=''):\n",
        "        \"\"\"Transforms list of params to a valid bitrix array.\"\"\"\n",
        "        ret = ''\n",
        "        if isinstance(params, dict):\n",
        "            for key, value in params.items():\n",
        "                if isinstance(value, dict):\n",
        "                    if prev:\n",
        "                        key = \"{0}[{1}]\".format(prev, key)\n",
        "                    ret += self._prepare_params(value, key)\n",
        "                elif (isinstance(value, list) or isinstance(value, tuple)) and len(value) > 0:\n",
        "                    for offset, val in enumerate(value):\n",
        "                        if isinstance(val, dict):\n",
        "                            ret += self._prepare_params(\n",
        "                                val, \"{0}[{1}][{2}]\".format(prev, key, offset))\n",
        "                        else:\n",
        "                            if prev:\n",
        "                                ret += \"{0}[{1}][{2}]={3}&\".format(\n",
        "                                    prev, key, offset, val)\n",
        "                            else:\n",
        "                                ret += \"{0}[{1}]={2}&\".format(key, offset, val)\n",
        "                else:\n",
        "                    if prev:\n",
        "                        ret += \"{0}[{1}]={2}&\".format(prev, key, value)\n",
        "                    else:\n",
        "                        ret += \"{0}={1}&\".format(key, value)\n",
        "        return ret\n",
        "\n",
        "    def callMethod(self, method, **params):\n",
        "        \"\"\"Calls a REST method with specified parameters.\n",
        "\n",
        "       :param url: REST method name.\n",
        "       :param \\*\\*params: Optional arguments which will be converted to a POST request string.\n",
        "       :return: Returning the REST method response as an array, an object or a scalar\n",
        "       \"\"\"\n",
        "\n",
        "        try:\n",
        "            url = '{0}/{1}.json'.format(self.domain, method)\n",
        "\n",
        "            p = self._prepare_params(params)\n",
        "\n",
        "            if method.rsplit('.', 1)[0] in ['add', 'update', 'delete', 'set']:\n",
        "                r = requests.post(url, data=p, timeout=self.timeout).json()\n",
        "            else:\n",
        "                r = requests.get(url, params=p, timeout=self.timeout).json()\n",
        "        except ValueError:\n",
        "            if r['error'] not in 'QUERY_LIMIT_EXCEEDED':\n",
        "                raise BitrixError(r)\n",
        "            # Looks like we need to wait until expires limitation time by Bitrix24 API\n",
        "            sleep(2)\n",
        "            return self.callMethod(method, **params)\n",
        "\n",
        "        if 'error' in r:\n",
        "            raise BitrixError(r)\n",
        "        if 'start' not in params:\n",
        "            params['start'] = 0\n",
        "        if 'next' in r and r['total'] > params['start']:\n",
        "            params['start'] += 50\n",
        "            data = self.callMethod(method, **params)\n",
        "            if isinstance(r['result'], dict):\n",
        "                result = r['result'].copy()\n",
        "                result.update(data)\n",
        "            else:\n",
        "                result = r['result'] + data\n",
        "            return result\n",
        "        return r['result']"
      ]
    },
    {
      "cell_type": "markdown",
      "metadata": {
        "id": "Ys2d-Bxu79-9"
      },
      "source": [
        "CONEXÕES"
      ]
    },
    {
      "cell_type": "code",
      "execution_count": 23,
      "metadata": {
        "id": "ZaXbfDqj79-9"
      },
      "outputs": [],
      "source": [
        "#BITRIX \n",
        "apiFaz = Bitrix24('https://fazcapital.bitrix24.com.br/rest/1471/rn9tlazdexortpli/', 60)\n",
        "\n",
        "#AMAZON\n",
        "aws = psycopg2.connect(\n",
        "    host=\"teste.cpdbmdlpalvb.us-east-1.rds.amazonaws.com\",\n",
        "    database=\"etl_fazcapital\",\n",
        "    user=\"fazcapital\",\n",
        "    password=\"A1b2c3d4!#$%&*\",\n",
        "    port=\"5432\")\n"
      ]
    },
    {
      "cell_type": "code",
      "execution_count": 26,
      "metadata": {
        "colab": {
          "base_uri": "https://localhost:8080/",
          "height": 501
        },
        "id": "ADMmDzRv79--",
        "outputId": "99fff71d-a76d-46b3-e093-27225234908f"
      },
      "outputs": [
        {
          "output_type": "error",
          "ename": "KeyError",
          "evalue": "ignored",
          "traceback": [
            "\u001b[0;31m---------------------------------------------------------------------------\u001b[0m",
            "\u001b[0;31mKeyError\u001b[0m                                  Traceback (most recent call last)",
            "\u001b[0;32m/usr/local/lib/python3.7/dist-packages/pandas/core/indexes/base.py\u001b[0m in \u001b[0;36mget_loc\u001b[0;34m(self, key, method, tolerance)\u001b[0m\n\u001b[1;32m   3360\u001b[0m             \u001b[0;32mtry\u001b[0m\u001b[0;34m:\u001b[0m\u001b[0;34m\u001b[0m\u001b[0;34m\u001b[0m\u001b[0m\n\u001b[0;32m-> 3361\u001b[0;31m                 \u001b[0;32mreturn\u001b[0m \u001b[0mself\u001b[0m\u001b[0;34m.\u001b[0m\u001b[0m_engine\u001b[0m\u001b[0;34m.\u001b[0m\u001b[0mget_loc\u001b[0m\u001b[0;34m(\u001b[0m\u001b[0mcasted_key\u001b[0m\u001b[0;34m)\u001b[0m\u001b[0;34m\u001b[0m\u001b[0;34m\u001b[0m\u001b[0m\n\u001b[0m\u001b[1;32m   3362\u001b[0m             \u001b[0;32mexcept\u001b[0m \u001b[0mKeyError\u001b[0m \u001b[0;32mas\u001b[0m \u001b[0merr\u001b[0m\u001b[0;34m:\u001b[0m\u001b[0;34m\u001b[0m\u001b[0;34m\u001b[0m\u001b[0m\n",
            "\u001b[0;32m/usr/local/lib/python3.7/dist-packages/pandas/_libs/index.pyx\u001b[0m in \u001b[0;36mpandas._libs.index.IndexEngine.get_loc\u001b[0;34m()\u001b[0m\n",
            "\u001b[0;32m/usr/local/lib/python3.7/dist-packages/pandas/_libs/index.pyx\u001b[0m in \u001b[0;36mpandas._libs.index.IndexEngine.get_loc\u001b[0;34m()\u001b[0m\n",
            "\u001b[0;32mpandas/_libs/hashtable_class_helper.pxi\u001b[0m in \u001b[0;36mpandas._libs.hashtable.PyObjectHashTable.get_item\u001b[0;34m()\u001b[0m\n",
            "\u001b[0;32mpandas/_libs/hashtable_class_helper.pxi\u001b[0m in \u001b[0;36mpandas._libs.hashtable.PyObjectHashTable.get_item\u001b[0;34m()\u001b[0m\n",
            "\u001b[0;31mKeyError\u001b[0m: 'id'",
            "\nThe above exception was the direct cause of the following exception:\n",
            "\u001b[0;31mKeyError\u001b[0m                                  Traceback (most recent call last)",
            "\u001b[0;32m<ipython-input-26-0c76d81ffe2b>\u001b[0m in \u001b[0;36m<module>\u001b[0;34m()\u001b[0m\n\u001b[1;32m     63\u001b[0m \u001b[0;34m\u001b[0m\u001b[0m\n\u001b[1;32m     64\u001b[0m         \u001b[0mvalues\u001b[0m \u001b[0;34m=\u001b[0m \u001b[0;34m(\u001b[0m\u001b[0mid\u001b[0m\u001b[0;34m,\u001b[0m \u001b[0mportal_user_id\u001b[0m\u001b[0;34m,\u001b[0m \u001b[0mportal_number\u001b[0m\u001b[0;34m,\u001b[0m \u001b[0mphone_number\u001b[0m\u001b[0;34m,\u001b[0m \u001b[0mcall_id\u001b[0m\u001b[0;34m,\u001b[0m \u001b[0mexternal_call_id\u001b[0m\u001b[0;34m,\u001b[0m \u001b[0mcall_category\u001b[0m\u001b[0;34m,\u001b[0m \u001b[0mcall_duration\u001b[0m\u001b[0;34m,\u001b[0m \u001b[0mcall_start_date\u001b[0m\u001b[0;34m,\u001b[0m \u001b[0mcall_record_url\u001b[0m\u001b[0;34m,\u001b[0m \u001b[0mcall_vote\u001b[0m\u001b[0;34m,\u001b[0m \u001b[0mcost\u001b[0m\u001b[0;34m,\u001b[0m \u001b[0mcost_currency\u001b[0m\u001b[0;34m,\u001b[0m \u001b[0mcall_failed_code\u001b[0m\u001b[0;34m,\u001b[0m \u001b[0mcall_failed_reason\u001b[0m\u001b[0;34m,\u001b[0m \u001b[0mcrm_entity_type\u001b[0m\u001b[0;34m,\u001b[0m \u001b[0mcrm_entity_id\u001b[0m\u001b[0;34m,\u001b[0m \u001b[0mcrm_activity_id\u001b[0m\u001b[0;34m,\u001b[0m \u001b[0mrest_app_id\u001b[0m\u001b[0;34m,\u001b[0m \u001b[0mrest_app_name\u001b[0m\u001b[0;34m,\u001b[0m \u001b[0mtranscript_id\u001b[0m\u001b[0;34m,\u001b[0m \u001b[0mtranscript_pending\u001b[0m\u001b[0;34m,\u001b[0m \u001b[0msession_id\u001b[0m\u001b[0;34m,\u001b[0m \u001b[0mredial_attempt\u001b[0m\u001b[0;34m,\u001b[0m \u001b[0mcomment\u001b[0m\u001b[0;34m,\u001b[0m \u001b[0mrecord_file_id\u001b[0m\u001b[0;34m,\u001b[0m \u001b[0mcall_type\u001b[0m\u001b[0;34m)\u001b[0m\u001b[0;34m\u001b[0m\u001b[0;34m\u001b[0m\u001b[0m\n\u001b[0;32m---> 65\u001b[0;31m         \u001b[0mcursor\u001b[0m\u001b[0;34m.\u001b[0m\u001b[0mexecute\u001b[0m\u001b[0;34m(\u001b[0m\u001b[0mquery\u001b[0m\u001b[0;34m,\u001b[0m \u001b[0mvalues\u001b[0m\u001b[0;34m)\u001b[0m\u001b[0;34m\u001b[0m\u001b[0;34m\u001b[0m\u001b[0m\n\u001b[0m\u001b[1;32m     66\u001b[0m         \u001b[0maws\u001b[0m\u001b[0;34m.\u001b[0m\u001b[0mcommit\u001b[0m\u001b[0;34m(\u001b[0m\u001b[0;34m)\u001b[0m\u001b[0;34m\u001b[0m\u001b[0;34m\u001b[0m\u001b[0m\n\u001b[1;32m     67\u001b[0m     \u001b[0mcursor\u001b[0m\u001b[0;34m.\u001b[0m\u001b[0mclose\u001b[0m\u001b[0;34m(\u001b[0m\u001b[0;34m)\u001b[0m\u001b[0;34m\u001b[0m\u001b[0;34m\u001b[0m\u001b[0m\n",
            "\u001b[0;32m/usr/local/lib/python3.7/dist-packages/pandas/core/frame.py\u001b[0m in \u001b[0;36m__getitem__\u001b[0;34m(self, key)\u001b[0m\n\u001b[1;32m   3456\u001b[0m             \u001b[0;32mif\u001b[0m \u001b[0mself\u001b[0m\u001b[0;34m.\u001b[0m\u001b[0mcolumns\u001b[0m\u001b[0;34m.\u001b[0m\u001b[0mnlevels\u001b[0m \u001b[0;34m>\u001b[0m \u001b[0;36m1\u001b[0m\u001b[0;34m:\u001b[0m\u001b[0;34m\u001b[0m\u001b[0;34m\u001b[0m\u001b[0m\n\u001b[1;32m   3457\u001b[0m                 \u001b[0;32mreturn\u001b[0m \u001b[0mself\u001b[0m\u001b[0;34m.\u001b[0m\u001b[0m_getitem_multilevel\u001b[0m\u001b[0;34m(\u001b[0m\u001b[0mkey\u001b[0m\u001b[0;34m)\u001b[0m\u001b[0;34m\u001b[0m\u001b[0;34m\u001b[0m\u001b[0m\n\u001b[0;32m-> 3458\u001b[0;31m             \u001b[0mindexer\u001b[0m \u001b[0;34m=\u001b[0m \u001b[0mself\u001b[0m\u001b[0;34m.\u001b[0m\u001b[0mcolumns\u001b[0m\u001b[0;34m.\u001b[0m\u001b[0mget_loc\u001b[0m\u001b[0;34m(\u001b[0m\u001b[0mkey\u001b[0m\u001b[0;34m)\u001b[0m\u001b[0;34m\u001b[0m\u001b[0;34m\u001b[0m\u001b[0m\n\u001b[0m\u001b[1;32m   3459\u001b[0m             \u001b[0;32mif\u001b[0m \u001b[0mis_integer\u001b[0m\u001b[0;34m(\u001b[0m\u001b[0mindexer\u001b[0m\u001b[0;34m)\u001b[0m\u001b[0;34m:\u001b[0m\u001b[0;34m\u001b[0m\u001b[0;34m\u001b[0m\u001b[0m\n\u001b[1;32m   3460\u001b[0m                 \u001b[0mindexer\u001b[0m \u001b[0;34m=\u001b[0m \u001b[0;34m[\u001b[0m\u001b[0mindexer\u001b[0m\u001b[0;34m]\u001b[0m\u001b[0;34m\u001b[0m\u001b[0;34m\u001b[0m\u001b[0m\n",
            "\u001b[0;32m/usr/local/lib/python3.7/dist-packages/pandas/core/indexes/base.py\u001b[0m in \u001b[0;36mget_loc\u001b[0;34m(self, key, method, tolerance)\u001b[0m\n\u001b[1;32m   3361\u001b[0m                 \u001b[0;32mreturn\u001b[0m \u001b[0mself\u001b[0m\u001b[0;34m.\u001b[0m\u001b[0m_engine\u001b[0m\u001b[0;34m.\u001b[0m\u001b[0mget_loc\u001b[0m\u001b[0;34m(\u001b[0m\u001b[0mcasted_key\u001b[0m\u001b[0;34m)\u001b[0m\u001b[0;34m\u001b[0m\u001b[0;34m\u001b[0m\u001b[0m\n\u001b[1;32m   3362\u001b[0m             \u001b[0;32mexcept\u001b[0m \u001b[0mKeyError\u001b[0m \u001b[0;32mas\u001b[0m \u001b[0merr\u001b[0m\u001b[0;34m:\u001b[0m\u001b[0;34m\u001b[0m\u001b[0;34m\u001b[0m\u001b[0m\n\u001b[0;32m-> 3363\u001b[0;31m                 \u001b[0;32mraise\u001b[0m \u001b[0mKeyError\u001b[0m\u001b[0;34m(\u001b[0m\u001b[0mkey\u001b[0m\u001b[0;34m)\u001b[0m \u001b[0;32mfrom\u001b[0m \u001b[0merr\u001b[0m\u001b[0;34m\u001b[0m\u001b[0;34m\u001b[0m\u001b[0m\n\u001b[0m\u001b[1;32m   3364\u001b[0m \u001b[0;34m\u001b[0m\u001b[0m\n\u001b[1;32m   3365\u001b[0m         \u001b[0;32mif\u001b[0m \u001b[0mis_scalar\u001b[0m\u001b[0;34m(\u001b[0m\u001b[0mkey\u001b[0m\u001b[0;34m)\u001b[0m \u001b[0;32mand\u001b[0m \u001b[0misna\u001b[0m\u001b[0;34m(\u001b[0m\u001b[0mkey\u001b[0m\u001b[0;34m)\u001b[0m \u001b[0;32mand\u001b[0m \u001b[0;32mnot\u001b[0m \u001b[0mself\u001b[0m\u001b[0;34m.\u001b[0m\u001b[0mhasnans\u001b[0m\u001b[0;34m:\u001b[0m\u001b[0;34m\u001b[0m\u001b[0;34m\u001b[0m\u001b[0m\n",
            "\u001b[0;31mKeyError\u001b[0m: 'id'"
          ]
        }
      ],
      "source": [
        "    \n",
        "while horaInt >= 10 and horaInt <= 18:  \n",
        "        aws = psycopg2.connect(\n",
        "        host=\"teste.cpdbmdlpalvb.us-east-1.rds.amazonaws.com\",\n",
        "        database=\"etl_fazcapital\",\n",
        "        user=\"fazcapital\",\n",
        "        password=\"A1b2c3d4!#$%&*\",\n",
        "        port=\"5432\")\n",
        "        \n",
        "        \n",
        "                \n",
        "        telefone = pd.read_sql(\"SELECT id FROM telefone\", aws)\n",
        "        telefone = telefone['id'].astype(int)\n",
        "        idMaximoTelefone =  int(telefone.max())\n",
        "        \n",
        "\n",
        "        \n",
        "\n",
        "\n",
        "    \n",
        "        bitrixTelephony = apiFaz.callMethod('voximplant.statistic.get', next = True,\n",
        "                                    filter = {'>ID': idMaximoTelefone})\n",
        "            \n",
        "\n",
        "        DataBitrix = pd.DataFrame(bitrixTelephony)\n",
        "        DataBitrix.columns = DataBitrix.columns.str.lower()\n",
        "        Valor = DataBitrix['id'].count()\n",
        "        BitrixIDmaximo = DataBitrix['id'].max()\n",
        "        BitrixIDmaximo = int(DataBitrix['id'].max())\n",
        "\n",
        "\n",
        "        cursor = aws.cursor()\n",
        "\n",
        "        query = \"INSERT INTO telefone (id, portal_user_id , portal_number,phone_number,call_id,external_call_id,call_category,call_duration,call_start_date,call_record_url,call_vote,cost,cost_currency,call_failed_code,call_failed_reason,crm_entity_type,crm_entity_id,crm_activity_id,rest_app_id,rest_app_name,transcript_id,transcript_pending,session_id,redial_attempt,comment,record_file_id,call_type) VALUES(%s, %s , %s, %s , %s, %s,%s, %s , %s, %s , %s, %s,%s, %s , %s, %s , %s, %s,%s, %s , %s, %s , %s, %s,%s,%s, %s)\"\n",
        "        for r in range(Valor):\n",
        "            id = DataBitrix.iloc[r, 0]\n",
        "            portal_user_id = DataBitrix.iloc[r, 1]\n",
        "            portal_number = DataBitrix.iloc[r, 2]\n",
        "            phone_number = DataBitrix.iloc[r, 3]\n",
        "            call_id = DataBitrix.iloc[r, 4]\n",
        "            external_call_id = DataBitrix.iloc[r, 5]\n",
        "            call_category = DataBitrix.iloc[r, 6]\n",
        "            call_duration = DataBitrix.iloc[r, 7]\n",
        "            call_start_date = DataBitrix.iloc[r, 8]\n",
        "            call_record_url = DataBitrix.iloc[r, 9]\n",
        "            call_vote = DataBitrix.iloc[r, 10]\n",
        "            cost = DataBitrix.iloc[r, 11]\n",
        "            cost_currency = DataBitrix.iloc[r, 12]\n",
        "            call_failed_code = DataBitrix.iloc[r, 13]\n",
        "            call_failed_reason = DataBitrix.iloc[r, 14]\n",
        "            crm_entity_type = DataBitrix.iloc[r, 15]\n",
        "            crm_entity_id = DataBitrix.iloc[r, 16]\n",
        "            crm_activity_id = DataBitrix.iloc[r, 17]\n",
        "            rest_app_id = DataBitrix.iloc[r, 18]\n",
        "            rest_app_name = DataBitrix.iloc[r, 19]\n",
        "            transcript_id = DataBitrix.iloc[r, 20]\n",
        "            transcript_pending = DataBitrix.iloc[r, 21]\n",
        "            session_id = DataBitrix.iloc[r, 22]\n",
        "            redial_attempt = DataBitrix.iloc[r, 23]\n",
        "            comment = DataBitrix.iloc[r, 24]\n",
        "            record_file_id = DataBitrix.iloc[r, 25]\n",
        "            call_type = DataBitrix.iloc[r, 26]\n",
        "\n",
        "            values = (id, portal_user_id, portal_number, phone_number, call_id, external_call_id, call_category, call_duration, call_start_date, call_record_url, call_vote, cost, cost_currency, call_failed_code, call_failed_reason, crm_entity_type, crm_entity_id, crm_activity_id, rest_app_id, rest_app_name, transcript_id, transcript_pending, session_id, redial_attempt, comment, record_file_id, call_type)\n",
        "            cursor.execute(query, values)\n",
        "            aws.commit()\n",
        "\n",
        "\n",
        "            aws = psycopg2.connect(\n",
        "            host=\"teste.cpdbmdlpalvb.us-east-1.rds.amazonaws.com\",\n",
        "            database=\"etl_fazcapital\",\n",
        "            user=\"fazcapital\",\n",
        "            password=\"A1b2c3d4!#$%&*\",\n",
        "            port=\"5432\")\n",
        "\n",
        "\n",
        "\n",
        "\n",
        "\n",
        "        \n",
        "        \n",
        "        \n",
        "        \n",
        "        \n",
        "        \n",
        "        \n",
        "        \n",
        "        \n",
        "        \n",
        "        \n",
        "        \n",
        "        \n",
        "        \n",
        "        \n",
        "        \n",
        "        \n",
        "        \n",
        "        \n",
        "        \n",
        "        \n",
        "        \n",
        "        \n",
        "        \n",
        "        \n",
        "        \n",
        "        \n",
        "        cursor.close()\n",
        "        aws.close()\n",
        "\n",
        "                \n",
        "            \n",
        "            \n",
        "            \n",
        "            \n",
        "            \n",
        "            \n",
        "            \n",
        "            \n",
        "            \n",
        "            \n",
        "\n",
        "     \n",
        "     \n",
        "     \n",
        "     \n",
        "     \n",
        "     \n",
        "     \n",
        "     \n",
        "     \n",
        "     \n",
        "\n",
        "         \n",
        "        \n",
        "        \n",
        "\n",
        "        \n",
        "            \n",
        "            \n",
        "            \n",
        "   "
      ]
    }
  ],
  "metadata": {
    "kernelspec": {
      "display_name": "Python 3.9.12 ('base')",
      "language": "python",
      "name": "python3"
    },
    "language_info": {
      "codemirror_mode": {
        "name": "ipython",
        "version": 3
      },
      "file_extension": ".py",
      "mimetype": "text/x-python",
      "name": "python",
      "nbconvert_exporter": "python",
      "pygments_lexer": "ipython3",
      "version": "3.9.12"
    },
    "orig_nbformat": 4,
    "vscode": {
      "interpreter": {
        "hash": "566d202c986ce206cd64bfda87430fe738304fcd27f517f4bf3ebfd947c41967"
      }
    },
    "colab": {
      "name": "Postgres_BITRIXapi.ipynb",
      "provenance": [],
      "collapsed_sections": [],
      "include_colab_link": true
    }
  },
  "nbformat": 4,
  "nbformat_minor": 0
}