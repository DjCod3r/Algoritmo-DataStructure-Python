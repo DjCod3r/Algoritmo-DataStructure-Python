{
 "cells": [
  {
   "cell_type": "code",
   "execution_count": 85,
   "metadata": {},
   "outputs": [],
   "source": [
    "import numpy as np"
   ]
  },
  {
   "cell_type": "code",
   "execution_count": 86,
   "metadata": {},
   "outputs": [],
   "source": [
    "class VetorNaoOrdenado: \n",
    "    def __init__(self,capacidade):\n",
    "        self.capacidade = capacidade\n",
    "        self.ultimaPosicao = -1 \n",
    "        self.valores = np.empty(self.capacidade, dtype=int) #criando com numpy um vetor vazio. Capacidade N\n",
    "        self.tamanho = 0\n",
    "    # O(n) \n",
    "\n",
    "    def imprimir(self):\n",
    "        if self.ultimaPosicao == -1:\n",
    "            print(\"Vetor vazio\")\n",
    "        else:\n",
    "            for i in range(self.ultimaPosicao+1):\n",
    "                print(\"Indice \", i ,\" valor \",self.valores[i])\n",
    "            print()\n",
    "    \n",
    "    def inserir(self, valor):\n",
    "        if self.tamanho == self.capacidade -1:\n",
    "            print(\"Vetor cheio\")\n",
    "        else:\n",
    "            self.ultimaPosicao += 1 #trocando ultima posicao para o indice 0 , para adicionar o valor\n",
    "            self.valores[self.ultimaPosicao] = valor #adicionando o valor\n",
    "            self.tamanho += 1 #tamanho do vetor aumenta\n",
    "    \n",
    "    def pesquisar(self ,valor): #Busca Linear\n",
    "        for i in range(self.ultimaPosicao +1):\n",
    "            if valor == self.valores[i]:\n",
    "                return (f'O valor {valor} está na posição {i}')\n",
    "            else :\n",
    "                return (f'O valor {valor} não está na lista')\n",
    "\n",
    "    def remover(self, valor):\n",
    "        for i in range(self.ultimaPosicao +1):\n",
    "            if valor == self.valores[i]:\n",
    "                self.valores[i] = 0\n",
    "                self.ultimaPosicao -= 1\n",
    "                self.tamanho -= 1\n",
    "                return (f'O valor {valor} foi removido')\n",
    "            else :\n",
    "                return (f'O valor {valor} não está na lista')\n",
    "\n",
    "            \n",
    "                \n",
    "\n"
   ]
  },
  {
   "cell_type": "code",
   "execution_count": 87,
   "metadata": {},
   "outputs": [],
   "source": [
    "vetor = VetorNaoOrdenado(5)\n"
   ]
  },
  {
   "cell_type": "code",
   "execution_count": 88,
   "metadata": {},
   "outputs": [],
   "source": [
    "vetor.inserir(4)"
   ]
  },
  {
   "cell_type": "code",
   "execution_count": 93,
   "metadata": {},
   "outputs": [
    {
     "name": "stdout",
     "output_type": "stream",
     "text": [
      "Vetor vazio\n"
     ]
    }
   ],
   "source": [
    "vetor.imprimir()"
   ]
  },
  {
   "cell_type": "code",
   "execution_count": 96,
   "metadata": {},
   "outputs": [],
   "source": [
    "vetor.remover(5)"
   ]
  }
 ],
 "metadata": {
  "interpreter": {
   "hash": "b3ba2566441a7c06988d0923437866b63cedc61552a5af99d1f4fb67d367b25f"
  },
  "kernelspec": {
   "display_name": "Python 3.9.7 ('base')",
   "language": "python",
   "name": "python3"
  },
  "language_info": {
   "codemirror_mode": {
    "name": "ipython",
    "version": 3
   },
   "file_extension": ".py",
   "mimetype": "text/x-python",
   "name": "python",
   "nbconvert_exporter": "python",
   "pygments_lexer": "ipython3",
   "version": "3.9.7"
  },
  "orig_nbformat": 4
 },
 "nbformat": 4,
 "nbformat_minor": 2
}
