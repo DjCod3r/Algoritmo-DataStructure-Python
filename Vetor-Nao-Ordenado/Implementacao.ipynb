{
 "cells": [
  {
   "cell_type": "code",
   "execution_count": 1,
   "metadata": {},
   "outputs": [],
   "source": [
    "import numpy as np"
   ]
  },
  {
   "cell_type": "code",
   "execution_count": 2,
   "metadata": {},
   "outputs": [],
   "source": [
    "class VetorNaoOrdenado: \n",
    "    def __init__(self,capacidade):\n",
    "        self.capacidade = capacidade\n",
    "        self.ultimaPosicao = -1 \n",
    "        self.valores = np.empty(self.capacidade, dtype=int) #criando com numpy um vetor vazio. Capacidade N\n",
    "        self.tamanho = 0\n",
    "    # O(n) \n",
    "    def imprimir(self):\n",
    "        if self.ultimaPosicao == -1:\n",
    "            print(\"Vetor vazio\")\n",
    "        else:\n",
    "            for i in range(self.ultimaPosicao+1):\n",
    "                print(self.valores[i], end=\" \")\n",
    "            print()\n"
   ]
  },
  {
   "cell_type": "code",
   "execution_count": 4,
   "metadata": {},
   "outputs": [],
   "source": [
    "vetor = VetorNaoOrdenado(10)"
   ]
  },
  {
   "cell_type": "code",
   "execution_count": 5,
   "metadata": {},
   "outputs": [
    {
     "name": "stdout",
     "output_type": "stream",
     "text": [
      "Vetor vazio\n"
     ]
    }
   ],
   "source": [
    "vetor.imprimir()"
   ]
  }
 ],
 "metadata": {
  "interpreter": {
   "hash": "b3ba2566441a7c06988d0923437866b63cedc61552a5af99d1f4fb67d367b25f"
  },
  "kernelspec": {
   "display_name": "Python 3.9.7 ('base')",
   "language": "python",
   "name": "python3"
  },
  "language_info": {
   "codemirror_mode": {
    "name": "ipython",
    "version": 3
   },
   "file_extension": ".py",
   "mimetype": "text/x-python",
   "name": "python",
   "nbconvert_exporter": "python",
   "pygments_lexer": "ipython3",
   "version": "3.9.7"
  },
  "orig_nbformat": 4
 },
 "nbformat": 4,
 "nbformat_minor": 2
}
