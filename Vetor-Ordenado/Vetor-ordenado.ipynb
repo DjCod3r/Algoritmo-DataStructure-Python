{
 "cells": [
  {
   "cell_type": "code",
   "execution_count": 1,
   "metadata": {},
   "outputs": [],
   "source": [
    "import numpy as np"
   ]
  },
  {
   "cell_type": "code",
   "execution_count": 58,
   "metadata": {},
   "outputs": [],
   "source": [
    "class VetorNaoOrdenado: \n",
    "    def __init__(self,capacidade):\n",
    "        self.capacidade = capacidade\n",
    "        self.ultimaPosicao = -1 \n",
    "        self.valores = np.empty(self.capacidade, dtype=int) #criando com numpy um vetor vazio. Capacidade N\n",
    "      \n",
    "    # O(n) \n",
    "\n",
    "    def imprimir(self):\n",
    "        if self.ultimaPosicao == -1:\n",
    "            print(\"Vetor vazio\")\n",
    "        else:\n",
    "            for i in range(self.ultimaPosicao+1):\n",
    "                print(\"Indice \", i ,\" valor \",self.valores[i])\n",
    "            \n",
    "    \n",
    "    def inserir(self,valor):\n",
    "        if self.ultimaPosicao == self.capacidade-1:\n",
    "            print(\"Vetor cheio\")\n",
    "            return\n",
    "        \n",
    "        posicao = 0\n",
    "        for i in range(self.ultimaPosicao +1):\n",
    "            posicao = i\n",
    "            if self.valores[i] > valor: #verificar se o valor é maior que o valor da posição atual\n",
    "                break\n",
    "            if i == self.ultimaPosicao:\n",
    "                posicao = i + 1\n",
    "                break\n",
    "        \n",
    "        x = self.ultimaPosicao\n",
    "        while x >= posicao:\n",
    "            self.valores[x+1] = self.valores[x] #desloca os valores para a direita\n",
    "            x -= 1 #desloca o indice para a esquerda\n",
    "        \n",
    "        self.valores[posicao] = valor #insere o valor na posição correta\n",
    "        self.ultimaPosicao += 1 #incrementa a ultima posição\n",
    "\n",
    "    def pesquisar(self,valor):\n",
    "        for i in range(self.ultimaPosicao+1):\n",
    "            if self.valores[i] == valor:\n",
    "                return (f'O valor {valor} está na posição {i}')\n",
    "        return -1\n"
   ]
  },
  {
   "cell_type": "code",
   "execution_count": 59,
   "metadata": {},
   "outputs": [],
   "source": [
    "vetor = VetorNaoOrdenado(5)"
   ]
  },
  {
   "cell_type": "code",
   "execution_count": 68,
   "metadata": {},
   "outputs": [],
   "source": [
    "vetor.inserir(8)\n"
   ]
  },
  {
   "cell_type": "code",
   "execution_count": 69,
   "metadata": {},
   "outputs": [
    {
     "name": "stdout",
     "output_type": "stream",
     "text": [
      "Indice  0  valor  1\n",
      "Indice  1  valor  2\n",
      "Indice  2  valor  2\n",
      "Indice  3  valor  3\n",
      "Indice  4  valor  8\n"
     ]
    }
   ],
   "source": [
    "vetor.imprimir()"
   ]
  }
 ],
 "metadata": {
  "interpreter": {
   "hash": "b3ba2566441a7c06988d0923437866b63cedc61552a5af99d1f4fb67d367b25f"
  },
  "kernelspec": {
   "display_name": "Python 3.9.7 ('base')",
   "language": "python",
   "name": "python3"
  },
  "language_info": {
   "codemirror_mode": {
    "name": "ipython",
    "version": 3
   },
   "file_extension": ".py",
   "mimetype": "text/x-python",
   "name": "python",
   "nbconvert_exporter": "python",
   "pygments_lexer": "ipython3",
   "version": "3.9.7"
  },
  "orig_nbformat": 4
 },
 "nbformat": 4,
 "nbformat_minor": 2
}
